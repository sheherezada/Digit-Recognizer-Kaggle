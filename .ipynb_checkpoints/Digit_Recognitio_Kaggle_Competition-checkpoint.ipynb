{
 "cells": [
  {
   "cell_type": "markdown",
   "id": "b3428d5b",
   "metadata": {},
   "source": [
    "<h3>Make the necessary imports</h3>"
   ]
  },
  {
   "cell_type": "code",
   "execution_count": 1,
   "id": "7cfcbbdc",
   "metadata": {},
   "outputs": [],
   "source": [
    "%matplotlib inline"
   ]
  },
  {
   "cell_type": "code",
   "execution_count": 2,
   "id": "dc9e65a6",
   "metadata": {},
   "outputs": [],
   "source": [
    "import pandas as pd\n",
    "import numpy as np\n",
    "import matplotlib.pyplot as plt\n",
    "\n",
    "import tensorflow as tf\n",
    "from tensorflow.keras.models import Sequential\n",
    "from tensorflow.keras.layers import Input, Dense, BatchNormalization, Dropout\n"
   ]
  },
  {
   "cell_type": "markdown",
   "id": "8989ae2c",
   "metadata": {},
   "source": [
    "<h3>Reading the data:</h3>"
   ]
  },
  {
   "cell_type": "code",
   "execution_count": 3,
   "id": "c98a4903",
   "metadata": {},
   "outputs": [],
   "source": [
    "train_data = pd.read_csv('train.csv')"
   ]
  },
  {
   "cell_type": "code",
   "execution_count": 4,
   "id": "24711f7d",
   "metadata": {},
   "outputs": [],
   "source": [
    "test_data = pd.read_csv('test.csv')"
   ]
  },
  {
   "cell_type": "code",
   "execution_count": 5,
   "id": "16313423",
   "metadata": {},
   "outputs": [
    {
     "data": {
      "text/html": [
       "<div>\n",
       "<style scoped>\n",
       "    .dataframe tbody tr th:only-of-type {\n",
       "        vertical-align: middle;\n",
       "    }\n",
       "\n",
       "    .dataframe tbody tr th {\n",
       "        vertical-align: top;\n",
       "    }\n",
       "\n",
       "    .dataframe thead th {\n",
       "        text-align: right;\n",
       "    }\n",
       "</style>\n",
       "<table border=\"1\" class=\"dataframe\">\n",
       "  <thead>\n",
       "    <tr style=\"text-align: right;\">\n",
       "      <th></th>\n",
       "      <th>label</th>\n",
       "      <th>pixel0</th>\n",
       "      <th>pixel1</th>\n",
       "      <th>pixel2</th>\n",
       "      <th>pixel3</th>\n",
       "      <th>pixel4</th>\n",
       "      <th>pixel5</th>\n",
       "      <th>pixel6</th>\n",
       "      <th>pixel7</th>\n",
       "      <th>pixel8</th>\n",
       "      <th>...</th>\n",
       "      <th>pixel774</th>\n",
       "      <th>pixel775</th>\n",
       "      <th>pixel776</th>\n",
       "      <th>pixel777</th>\n",
       "      <th>pixel778</th>\n",
       "      <th>pixel779</th>\n",
       "      <th>pixel780</th>\n",
       "      <th>pixel781</th>\n",
       "      <th>pixel782</th>\n",
       "      <th>pixel783</th>\n",
       "    </tr>\n",
       "  </thead>\n",
       "  <tbody>\n",
       "    <tr>\n",
       "      <th>0</th>\n",
       "      <td>1</td>\n",
       "      <td>0</td>\n",
       "      <td>0</td>\n",
       "      <td>0</td>\n",
       "      <td>0</td>\n",
       "      <td>0</td>\n",
       "      <td>0</td>\n",
       "      <td>0</td>\n",
       "      <td>0</td>\n",
       "      <td>0</td>\n",
       "      <td>...</td>\n",
       "      <td>0</td>\n",
       "      <td>0</td>\n",
       "      <td>0</td>\n",
       "      <td>0</td>\n",
       "      <td>0</td>\n",
       "      <td>0</td>\n",
       "      <td>0</td>\n",
       "      <td>0</td>\n",
       "      <td>0</td>\n",
       "      <td>0</td>\n",
       "    </tr>\n",
       "    <tr>\n",
       "      <th>1</th>\n",
       "      <td>0</td>\n",
       "      <td>0</td>\n",
       "      <td>0</td>\n",
       "      <td>0</td>\n",
       "      <td>0</td>\n",
       "      <td>0</td>\n",
       "      <td>0</td>\n",
       "      <td>0</td>\n",
       "      <td>0</td>\n",
       "      <td>0</td>\n",
       "      <td>...</td>\n",
       "      <td>0</td>\n",
       "      <td>0</td>\n",
       "      <td>0</td>\n",
       "      <td>0</td>\n",
       "      <td>0</td>\n",
       "      <td>0</td>\n",
       "      <td>0</td>\n",
       "      <td>0</td>\n",
       "      <td>0</td>\n",
       "      <td>0</td>\n",
       "    </tr>\n",
       "    <tr>\n",
       "      <th>2</th>\n",
       "      <td>1</td>\n",
       "      <td>0</td>\n",
       "      <td>0</td>\n",
       "      <td>0</td>\n",
       "      <td>0</td>\n",
       "      <td>0</td>\n",
       "      <td>0</td>\n",
       "      <td>0</td>\n",
       "      <td>0</td>\n",
       "      <td>0</td>\n",
       "      <td>...</td>\n",
       "      <td>0</td>\n",
       "      <td>0</td>\n",
       "      <td>0</td>\n",
       "      <td>0</td>\n",
       "      <td>0</td>\n",
       "      <td>0</td>\n",
       "      <td>0</td>\n",
       "      <td>0</td>\n",
       "      <td>0</td>\n",
       "      <td>0</td>\n",
       "    </tr>\n",
       "    <tr>\n",
       "      <th>3</th>\n",
       "      <td>4</td>\n",
       "      <td>0</td>\n",
       "      <td>0</td>\n",
       "      <td>0</td>\n",
       "      <td>0</td>\n",
       "      <td>0</td>\n",
       "      <td>0</td>\n",
       "      <td>0</td>\n",
       "      <td>0</td>\n",
       "      <td>0</td>\n",
       "      <td>...</td>\n",
       "      <td>0</td>\n",
       "      <td>0</td>\n",
       "      <td>0</td>\n",
       "      <td>0</td>\n",
       "      <td>0</td>\n",
       "      <td>0</td>\n",
       "      <td>0</td>\n",
       "      <td>0</td>\n",
       "      <td>0</td>\n",
       "      <td>0</td>\n",
       "    </tr>\n",
       "    <tr>\n",
       "      <th>4</th>\n",
       "      <td>0</td>\n",
       "      <td>0</td>\n",
       "      <td>0</td>\n",
       "      <td>0</td>\n",
       "      <td>0</td>\n",
       "      <td>0</td>\n",
       "      <td>0</td>\n",
       "      <td>0</td>\n",
       "      <td>0</td>\n",
       "      <td>0</td>\n",
       "      <td>...</td>\n",
       "      <td>0</td>\n",
       "      <td>0</td>\n",
       "      <td>0</td>\n",
       "      <td>0</td>\n",
       "      <td>0</td>\n",
       "      <td>0</td>\n",
       "      <td>0</td>\n",
       "      <td>0</td>\n",
       "      <td>0</td>\n",
       "      <td>0</td>\n",
       "    </tr>\n",
       "    <tr>\n",
       "      <th>5</th>\n",
       "      <td>0</td>\n",
       "      <td>0</td>\n",
       "      <td>0</td>\n",
       "      <td>0</td>\n",
       "      <td>0</td>\n",
       "      <td>0</td>\n",
       "      <td>0</td>\n",
       "      <td>0</td>\n",
       "      <td>0</td>\n",
       "      <td>0</td>\n",
       "      <td>...</td>\n",
       "      <td>0</td>\n",
       "      <td>0</td>\n",
       "      <td>0</td>\n",
       "      <td>0</td>\n",
       "      <td>0</td>\n",
       "      <td>0</td>\n",
       "      <td>0</td>\n",
       "      <td>0</td>\n",
       "      <td>0</td>\n",
       "      <td>0</td>\n",
       "    </tr>\n",
       "    <tr>\n",
       "      <th>6</th>\n",
       "      <td>7</td>\n",
       "      <td>0</td>\n",
       "      <td>0</td>\n",
       "      <td>0</td>\n",
       "      <td>0</td>\n",
       "      <td>0</td>\n",
       "      <td>0</td>\n",
       "      <td>0</td>\n",
       "      <td>0</td>\n",
       "      <td>0</td>\n",
       "      <td>...</td>\n",
       "      <td>0</td>\n",
       "      <td>0</td>\n",
       "      <td>0</td>\n",
       "      <td>0</td>\n",
       "      <td>0</td>\n",
       "      <td>0</td>\n",
       "      <td>0</td>\n",
       "      <td>0</td>\n",
       "      <td>0</td>\n",
       "      <td>0</td>\n",
       "    </tr>\n",
       "    <tr>\n",
       "      <th>7</th>\n",
       "      <td>3</td>\n",
       "      <td>0</td>\n",
       "      <td>0</td>\n",
       "      <td>0</td>\n",
       "      <td>0</td>\n",
       "      <td>0</td>\n",
       "      <td>0</td>\n",
       "      <td>0</td>\n",
       "      <td>0</td>\n",
       "      <td>0</td>\n",
       "      <td>...</td>\n",
       "      <td>0</td>\n",
       "      <td>0</td>\n",
       "      <td>0</td>\n",
       "      <td>0</td>\n",
       "      <td>0</td>\n",
       "      <td>0</td>\n",
       "      <td>0</td>\n",
       "      <td>0</td>\n",
       "      <td>0</td>\n",
       "      <td>0</td>\n",
       "    </tr>\n",
       "    <tr>\n",
       "      <th>8</th>\n",
       "      <td>5</td>\n",
       "      <td>0</td>\n",
       "      <td>0</td>\n",
       "      <td>0</td>\n",
       "      <td>0</td>\n",
       "      <td>0</td>\n",
       "      <td>0</td>\n",
       "      <td>0</td>\n",
       "      <td>0</td>\n",
       "      <td>0</td>\n",
       "      <td>...</td>\n",
       "      <td>0</td>\n",
       "      <td>0</td>\n",
       "      <td>0</td>\n",
       "      <td>0</td>\n",
       "      <td>0</td>\n",
       "      <td>0</td>\n",
       "      <td>0</td>\n",
       "      <td>0</td>\n",
       "      <td>0</td>\n",
       "      <td>0</td>\n",
       "    </tr>\n",
       "    <tr>\n",
       "      <th>9</th>\n",
       "      <td>3</td>\n",
       "      <td>0</td>\n",
       "      <td>0</td>\n",
       "      <td>0</td>\n",
       "      <td>0</td>\n",
       "      <td>0</td>\n",
       "      <td>0</td>\n",
       "      <td>0</td>\n",
       "      <td>0</td>\n",
       "      <td>0</td>\n",
       "      <td>...</td>\n",
       "      <td>0</td>\n",
       "      <td>0</td>\n",
       "      <td>0</td>\n",
       "      <td>0</td>\n",
       "      <td>0</td>\n",
       "      <td>0</td>\n",
       "      <td>0</td>\n",
       "      <td>0</td>\n",
       "      <td>0</td>\n",
       "      <td>0</td>\n",
       "    </tr>\n",
       "  </tbody>\n",
       "</table>\n",
       "<p>10 rows × 785 columns</p>\n",
       "</div>"
      ],
      "text/plain": [
       "   label  pixel0  pixel1  pixel2  pixel3  pixel4  pixel5  pixel6  pixel7  \\\n",
       "0      1       0       0       0       0       0       0       0       0   \n",
       "1      0       0       0       0       0       0       0       0       0   \n",
       "2      1       0       0       0       0       0       0       0       0   \n",
       "3      4       0       0       0       0       0       0       0       0   \n",
       "4      0       0       0       0       0       0       0       0       0   \n",
       "5      0       0       0       0       0       0       0       0       0   \n",
       "6      7       0       0       0       0       0       0       0       0   \n",
       "7      3       0       0       0       0       0       0       0       0   \n",
       "8      5       0       0       0       0       0       0       0       0   \n",
       "9      3       0       0       0       0       0       0       0       0   \n",
       "\n",
       "   pixel8  ...  pixel774  pixel775  pixel776  pixel777  pixel778  pixel779  \\\n",
       "0       0  ...         0         0         0         0         0         0   \n",
       "1       0  ...         0         0         0         0         0         0   \n",
       "2       0  ...         0         0         0         0         0         0   \n",
       "3       0  ...         0         0         0         0         0         0   \n",
       "4       0  ...         0         0         0         0         0         0   \n",
       "5       0  ...         0         0         0         0         0         0   \n",
       "6       0  ...         0         0         0         0         0         0   \n",
       "7       0  ...         0         0         0         0         0         0   \n",
       "8       0  ...         0         0         0         0         0         0   \n",
       "9       0  ...         0         0         0         0         0         0   \n",
       "\n",
       "   pixel780  pixel781  pixel782  pixel783  \n",
       "0         0         0         0         0  \n",
       "1         0         0         0         0  \n",
       "2         0         0         0         0  \n",
       "3         0         0         0         0  \n",
       "4         0         0         0         0  \n",
       "5         0         0         0         0  \n",
       "6         0         0         0         0  \n",
       "7         0         0         0         0  \n",
       "8         0         0         0         0  \n",
       "9         0         0         0         0  \n",
       "\n",
       "[10 rows x 785 columns]"
      ]
     },
     "execution_count": 5,
     "metadata": {},
     "output_type": "execute_result"
    }
   ],
   "source": [
    "train_data.head(10)"
   ]
  },
  {
   "cell_type": "markdown",
   "id": "02d66170",
   "metadata": {},
   "source": [
    "<h3>Splitting the train data into train, test, validation datasets</h3>"
   ]
  },
  {
   "cell_type": "code",
   "execution_count": 6,
   "id": "3f947943",
   "metadata": {},
   "outputs": [
    {
     "data": {
      "text/plain": [
       "(42000, 785)"
      ]
     },
     "execution_count": 6,
     "metadata": {},
     "output_type": "execute_result"
    }
   ],
   "source": [
    "train_data.shape"
   ]
  },
  {
   "cell_type": "code",
   "execution_count": 7,
   "id": "54e25003",
   "metadata": {},
   "outputs": [],
   "source": [
    "\"\"\"\n",
    " More than 50% for the train data\n",
    "\"\"\"\n",
    "\n",
    "\n",
    "\n",
    "train= train_data[:37000]\n",
    "val = train_data[37000:41000]\n",
    "test = train_data[41000:42000]\n",
    "\n"
   ]
  },
  {
   "cell_type": "code",
   "execution_count": 8,
   "id": "2f064300",
   "metadata": {},
   "outputs": [
    {
     "name": "stdout",
     "output_type": "stream",
     "text": [
      "Train dataset shape (37000, 785)\n",
      "Validation dataset shape (4000, 785)\n"
     ]
    }
   ],
   "source": [
    "\n",
    "print(f'Train dataset shape {train.shape}\\n\\\n",
    "Validation dataset shape {val.shape}')\n"
   ]
  },
  {
   "cell_type": "markdown",
   "id": "af167d2d",
   "metadata": {},
   "source": [
    "<h3>Spliting the datasets into X and y </h3>"
   ]
  },
  {
   "cell_type": "markdown",
   "id": "07446e38",
   "metadata": {},
   "source": [
    "<h5>Train supset split</h5>"
   ]
  },
  {
   "cell_type": "code",
   "execution_count": 9,
   "id": "b8a9b153",
   "metadata": {},
   "outputs": [],
   "source": [
    "x_train = train.drop('label',axis=1)      # Reading the images by not including the labels\n",
    "y_train = train['label']              "
   ]
  },
  {
   "cell_type": "code",
   "execution_count": 10,
   "id": "9d879801",
   "metadata": {},
   "outputs": [],
   "source": [
    "x_val = val.drop(columns=['label'])      # Reading the images by not including the labels\n",
    "y_val = val['label']    "
   ]
  },
  {
   "cell_type": "code",
   "execution_count": 11,
   "id": "3c6c166b",
   "metadata": {},
   "outputs": [],
   "source": [
    "y_test = test.label\n",
    "x_test=test.drop('label', axis = 1)\n"
   ]
  },
  {
   "cell_type": "markdown",
   "id": "b08fe3e2",
   "metadata": {},
   "source": [
    "<h3> Preparing the model </h3>"
   ]
  },
  {
   "cell_type": "code",
   "execution_count": 12,
   "id": "1e8eadfe",
   "metadata": {},
   "outputs": [
    {
     "data": {
      "text/plain": [
       "[LogicalDevice(name='/device:CPU:0', device_type='CPU'),\n",
       " LogicalDevice(name='/device:GPU:0', device_type='GPU')]"
      ]
     },
     "execution_count": 12,
     "metadata": {},
     "output_type": "execute_result"
    }
   ],
   "source": [
    "tf.config.list_logical_devices()"
   ]
  },
  {
   "cell_type": "code",
   "execution_count": 13,
   "id": "aa0c727e",
   "metadata": {},
   "outputs": [],
   "source": [
    "tf.keras.backend.clear_session()"
   ]
  },
  {
   "cell_type": "code",
   "execution_count": 14,
   "id": "c9fbad61",
   "metadata": {},
   "outputs": [],
   "source": [
    "model = Sequential([\n",
    "    Input(shape = (784)),\n",
    "   \n",
    "    Dense(64 , activation = \"relu\"),\n",
    "    BatchNormalization(),\n",
    "    Dense(64 , activation = \"relu\"),\n",
    "    BatchNormalization(),\n",
    "    Dense(64 , activation = \"relu\"),\n",
    "    BatchNormalization(),\n",
    "    Dropout(0.1),\n",
    "  \n",
    "    Dense(32,  activation = \"relu\"),\n",
    "    BatchNormalization(),\n",
    "    Dense(32,  activation = \"relu\"),\n",
    "    BatchNormalization(),\n",
    "    Dense(32,  activation = \"relu\"),\n",
    "    BatchNormalization(),\n",
    "    Dropout(0.5),\n",
    "  \n",
    "  \n",
    "    Dense(16,  activation = \"relu\"),\n",
    "    BatchNormalization(),\n",
    "    Dense(16,  activation = \"relu\"),\n",
    "    BatchNormalization(),\n",
    "    Dense(16,  activation = \"relu\"),\n",
    "    BatchNormalization(),\n",
    "    Dropout(0.1),\n",
    "    \n",
    "    Dense(10,  activation = \"softmax\")\n",
    "])"
   ]
  },
  {
   "cell_type": "code",
   "execution_count": 15,
   "id": "a56325cd",
   "metadata": {},
   "outputs": [
    {
     "name": "stdout",
     "output_type": "stream",
     "text": [
      "Model: \"sequential\"\n",
      "_________________________________________________________________\n",
      " Layer (type)                Output Shape              Param #   \n",
      "=================================================================\n",
      " dense (Dense)               (None, 64)                50240     \n",
      "                                                                 \n",
      " batch_normalization (BatchN  (None, 64)               256       \n",
      " ormalization)                                                   \n",
      "                                                                 \n",
      " dense_1 (Dense)             (None, 64)                4160      \n",
      "                                                                 \n",
      " batch_normalization_1 (Batc  (None, 64)               256       \n",
      " hNormalization)                                                 \n",
      "                                                                 \n",
      " dense_2 (Dense)             (None, 64)                4160      \n",
      "                                                                 \n",
      " batch_normalization_2 (Batc  (None, 64)               256       \n",
      " hNormalization)                                                 \n",
      "                                                                 \n",
      " dropout (Dropout)           (None, 64)                0         \n",
      "                                                                 \n",
      " dense_3 (Dense)             (None, 32)                2080      \n",
      "                                                                 \n",
      " batch_normalization_3 (Batc  (None, 32)               128       \n",
      " hNormalization)                                                 \n",
      "                                                                 \n",
      " dense_4 (Dense)             (None, 32)                1056      \n",
      "                                                                 \n",
      " batch_normalization_4 (Batc  (None, 32)               128       \n",
      " hNormalization)                                                 \n",
      "                                                                 \n",
      " dense_5 (Dense)             (None, 32)                1056      \n",
      "                                                                 \n",
      " batch_normalization_5 (Batc  (None, 32)               128       \n",
      " hNormalization)                                                 \n",
      "                                                                 \n",
      " dropout_1 (Dropout)         (None, 32)                0         \n",
      "                                                                 \n",
      " dense_6 (Dense)             (None, 16)                528       \n",
      "                                                                 \n",
      " batch_normalization_6 (Batc  (None, 16)               64        \n",
      " hNormalization)                                                 \n",
      "                                                                 \n",
      " dense_7 (Dense)             (None, 16)                272       \n",
      "                                                                 \n",
      " batch_normalization_7 (Batc  (None, 16)               64        \n",
      " hNormalization)                                                 \n",
      "                                                                 \n",
      " dense_8 (Dense)             (None, 16)                272       \n",
      "                                                                 \n",
      " batch_normalization_8 (Batc  (None, 16)               64        \n",
      " hNormalization)                                                 \n",
      "                                                                 \n",
      " dropout_2 (Dropout)         (None, 16)                0         \n",
      "                                                                 \n",
      " dense_9 (Dense)             (None, 10)                170       \n",
      "                                                                 \n",
      "=================================================================\n",
      "Total params: 65,338\n",
      "Trainable params: 64,666\n",
      "Non-trainable params: 672\n",
      "_________________________________________________________________\n"
     ]
    }
   ],
   "source": [
    "model.summary()"
   ]
  },
  {
   "cell_type": "code",
   "execution_count": 16,
   "id": "773b88fe",
   "metadata": {},
   "outputs": [],
   "source": [
    "model.compile(\n",
    "    optimizer=\"adam\",\n",
    "    loss=\"sparse_categorical_crossentropy\",\n",
    "    metrics = [\"accuracy\"]\n",
    "    )"
   ]
  },
  {
   "cell_type": "markdown",
   "id": "d41ace96",
   "metadata": {},
   "source": [
    "<h3> Fit the data: </h3>"
   ]
  },
  {
   "cell_type": "code",
   "execution_count": null,
   "id": "41f52253",
   "metadata": {},
   "outputs": [
    {
     "name": "stdout",
     "output_type": "stream",
     "text": [
      "Epoch 1/50\n",
      "290/290 [==============================] - 5s 10ms/step - loss: 1.7933 - accuracy: 0.3945 - val_loss: 0.7681 - val_accuracy: 0.7947\n",
      "Epoch 2/50\n",
      "290/290 [==============================] - 3s 9ms/step - loss: 0.7057 - accuracy: 0.8063 - val_loss: 0.3310 - val_accuracy: 0.9197\n",
      "Epoch 3/50\n",
      "290/290 [==============================] - 3s 9ms/step - loss: 0.4240 - accuracy: 0.8974 - val_loss: 0.2717 - val_accuracy: 0.9327\n",
      "Epoch 4/50\n",
      "290/290 [==============================] - 3s 9ms/step - loss: 0.3364 - accuracy: 0.9198 - val_loss: 0.2192 - val_accuracy: 0.9465\n",
      "Epoch 5/50\n",
      "290/290 [==============================] - 2s 9ms/step - loss: 0.2708 - accuracy: 0.9364 - val_loss: 0.2078 - val_accuracy: 0.9513\n",
      "Epoch 6/50\n",
      "290/290 [==============================] - 3s 9ms/step - loss: 0.2444 - accuracy: 0.9428 - val_loss: 0.1884 - val_accuracy: 0.9530\n",
      "Epoch 7/50\n",
      "290/290 [==============================] - 2s 8ms/step - loss: 0.2126 - accuracy: 0.9512 - val_loss: 0.1754 - val_accuracy: 0.9600\n",
      "Epoch 8/50\n",
      "290/290 [==============================] - 2s 8ms/step - loss: 0.1976 - accuracy: 0.9540 - val_loss: 0.1790 - val_accuracy: 0.9585\n",
      "Epoch 9/50\n",
      "290/290 [==============================] - 2s 8ms/step - loss: 0.1832 - accuracy: 0.9568 - val_loss: 0.1640 - val_accuracy: 0.9610\n",
      "Epoch 10/50\n",
      "290/290 [==============================] - 2s 8ms/step - loss: 0.1640 - accuracy: 0.9630 - val_loss: 0.1585 - val_accuracy: 0.9635\n",
      "Epoch 11/50\n",
      "290/290 [==============================] - 2s 9ms/step - loss: 0.1625 - accuracy: 0.9621 - val_loss: 0.1619 - val_accuracy: 0.9628\n",
      "Epoch 12/50\n",
      "290/290 [==============================] - 2s 8ms/step - loss: 0.1614 - accuracy: 0.9626 - val_loss: 0.1562 - val_accuracy: 0.9640\n",
      "Epoch 13/50\n",
      "290/290 [==============================] - 2s 8ms/step - loss: 0.1450 - accuracy: 0.9662 - val_loss: 0.1547 - val_accuracy: 0.9622\n",
      "Epoch 14/50\n",
      "290/290 [==============================] - 3s 9ms/step - loss: 0.1551 - accuracy: 0.9625 - val_loss: 0.1528 - val_accuracy: 0.9655\n",
      "Epoch 15/50\n",
      "290/290 [==============================] - 3s 9ms/step - loss: 0.1319 - accuracy: 0.9688 - val_loss: 0.1420 - val_accuracy: 0.9660\n",
      "Epoch 16/50\n",
      "290/290 [==============================] - 3s 9ms/step - loss: 0.1176 - accuracy: 0.9723 - val_loss: 0.1319 - val_accuracy: 0.9690\n",
      "Epoch 17/50\n",
      "290/290 [==============================] - 3s 9ms/step - loss: 0.1062 - accuracy: 0.9755 - val_loss: 0.1325 - val_accuracy: 0.9703\n",
      "Epoch 18/50\n",
      "290/290 [==============================] - 3s 9ms/step - loss: 0.1150 - accuracy: 0.9735 - val_loss: 0.1356 - val_accuracy: 0.9693\n",
      "Epoch 19/50\n",
      "290/290 [==============================] - 2s 8ms/step - loss: 0.1010 - accuracy: 0.9769 - val_loss: 0.1489 - val_accuracy: 0.9690\n",
      "Epoch 20/50\n",
      "290/290 [==============================] - 2s 8ms/step - loss: 0.1000 - accuracy: 0.9763 - val_loss: 0.1451 - val_accuracy: 0.9680\n",
      "Epoch 21/50\n",
      "290/290 [==============================] - 3s 9ms/step - loss: 0.1086 - accuracy: 0.9749 - val_loss: 0.1364 - val_accuracy: 0.9682\n",
      "Epoch 22/50\n",
      "290/290 [==============================] - 3s 9ms/step - loss: 0.0940 - accuracy: 0.9776 - val_loss: 0.1338 - val_accuracy: 0.9685\n",
      "Epoch 23/50\n",
      "290/290 [==============================] - 3s 9ms/step - loss: 0.0998 - accuracy: 0.9759 - val_loss: 0.1380 - val_accuracy: 0.9685\n",
      "Epoch 24/50\n",
      "290/290 [==============================] - 3s 9ms/step - loss: 0.0967 - accuracy: 0.9774 - val_loss: 0.1338 - val_accuracy: 0.9672\n",
      "Epoch 25/50\n",
      "290/290 [==============================] - 3s 9ms/step - loss: 0.0867 - accuracy: 0.9792 - val_loss: 0.1586 - val_accuracy: 0.9665\n",
      "Epoch 26/50\n",
      "290/290 [==============================] - 3s 9ms/step - loss: 0.1131 - accuracy: 0.9720 - val_loss: 0.1351 - val_accuracy: 0.9678\n",
      "Epoch 27/50\n",
      "290/290 [==============================] - 2s 8ms/step - loss: 0.0816 - accuracy: 0.9806 - val_loss: 0.1432 - val_accuracy: 0.9693\n",
      "Epoch 28/50\n",
      "290/290 [==============================] - 3s 9ms/step - loss: 0.0737 - accuracy: 0.9826 - val_loss: 0.1354 - val_accuracy: 0.9685\n",
      "Epoch 29/50\n",
      "290/290 [==============================] - 2s 8ms/step - loss: 0.0703 - accuracy: 0.9834 - val_loss: 0.1383 - val_accuracy: 0.9720\n",
      "Epoch 30/50\n",
      "290/290 [==============================] - 2s 8ms/step - loss: 0.0711 - accuracy: 0.9833 - val_loss: 0.1308 - val_accuracy: 0.9712\n",
      "Epoch 31/50\n",
      "290/290 [==============================] - 3s 9ms/step - loss: 0.0666 - accuracy: 0.9848 - val_loss: 0.1372 - val_accuracy: 0.9697\n",
      "Epoch 32/50\n",
      "290/290 [==============================] - 2s 8ms/step - loss: 0.0661 - accuracy: 0.9838 - val_loss: 0.1611 - val_accuracy: 0.9650\n",
      "Epoch 33/50\n",
      "290/290 [==============================] - 3s 9ms/step - loss: 0.0591 - accuracy: 0.9858 - val_loss: 0.1366 - val_accuracy: 0.9718\n",
      "Epoch 34/50\n",
      "290/290 [==============================] - 2s 9ms/step - loss: 0.0601 - accuracy: 0.9856 - val_loss: 0.1405 - val_accuracy: 0.9690\n",
      "Epoch 35/50\n",
      "290/290 [==============================] - 2s 9ms/step - loss: 0.0683 - accuracy: 0.9834 - val_loss: 0.1472 - val_accuracy: 0.9688\n",
      "Epoch 36/50\n",
      " 20/290 [=>............................] - ETA: 2s - loss: 0.1984 - accuracy: 0.9535"
     ]
    }
   ],
   "source": [
    "model.fit(\n",
    "    x_train,\n",
    "    y_train,\n",
    "    validation_data =(x_val, y_val),\n",
    "    epochs=50, \n",
    "    batch_size=128\n",
    "#     callbacks=[TensorBoard(log_dir=\"./logs_val\")]\n",
    ")"
   ]
  },
  {
   "cell_type": "markdown",
   "id": "70b9eecf",
   "metadata": {},
   "source": [
    "<h3> Make prediction on x_test </h3>"
   ]
  },
  {
   "cell_type": "code",
   "execution_count": null,
   "id": "3ea143ae",
   "metadata": {},
   "outputs": [],
   "source": [
    "test_predic= model.predict(x_test)"
   ]
  },
  {
   "cell_type": "code",
   "execution_count": null,
   "id": "9df9073d",
   "metadata": {},
   "outputs": [],
   "source": [
    "test_predic"
   ]
  },
  {
   "cell_type": "markdown",
   "id": "2df8d5a9",
   "metadata": {},
   "source": [
    "<h3> Using argmax to take the most propable prediction</h3>"
   ]
  },
  {
   "cell_type": "code",
   "execution_count": null,
   "id": "5da711b9",
   "metadata": {},
   "outputs": [],
   "source": [
    "answer_label=test_predic.argmax(axis=1)"
   ]
  },
  {
   "cell_type": "code",
   "execution_count": null,
   "id": "5f560cf3",
   "metadata": {},
   "outputs": [],
   "source": [
    "answer_label[0]"
   ]
  },
  {
   "cell_type": "markdown",
   "id": "daea2964",
   "metadata": {},
   "source": [
    "<h3> Results </h3>"
   ]
  },
  {
   "cell_type": "code",
   "execution_count": null,
   "id": "d1c0dec9",
   "metadata": {},
   "outputs": [],
   "source": [
    "for i in range(10):\n",
    "    print(f'Real value : {y_test.iloc[i]} vs Predicted value :{answer_label[i]}')\n"
   ]
  },
  {
   "cell_type": "markdown",
   "id": "ac3b3ae4",
   "metadata": {},
   "source": [
    "<h3> Making prediction and exporting for Kaggle submition </h3>"
   ]
  },
  {
   "cell_type": "code",
   "execution_count": null,
   "id": "3a66e926",
   "metadata": {},
   "outputs": [],
   "source": [
    "predictions=model.predict(test_data)"
   ]
  },
  {
   "cell_type": "code",
   "execution_count": null,
   "id": "8e0dd222",
   "metadata": {},
   "outputs": [],
   "source": [
    "submission=predictions.argmax(axis=1)"
   ]
  },
  {
   "cell_type": "code",
   "execution_count": null,
   "id": "5dd3a20f",
   "metadata": {},
   "outputs": [],
   "source": [
    "submission =pd.Series(submission)"
   ]
  },
  {
   "cell_type": "code",
   "execution_count": null,
   "id": "7fa1e8ca",
   "metadata": {},
   "outputs": [],
   "source": [
    "\"\"\"Creating DataFrame\"\"\"\n",
    "submission_data =submission.to_frame(name='submission_data')"
   ]
  },
  {
   "cell_type": "code",
   "execution_count": null,
   "id": "acbecfe5",
   "metadata": {},
   "outputs": [],
   "source": [
    "submission_data"
   ]
  },
  {
   "cell_type": "code",
   "execution_count": null,
   "id": "94ae4037",
   "metadata": {},
   "outputs": [],
   "source": [
    "submission_data=submission_data.rename(columns={ submission_data.columns[0]: \"Label\" })"
   ]
  },
  {
   "cell_type": "code",
   "execution_count": null,
   "id": "2c80d6b4",
   "metadata": {},
   "outputs": [],
   "source": [
    "submission_data['ImageId'] = range(1, len(submission_data)+1)"
   ]
  },
  {
   "cell_type": "code",
   "execution_count": null,
   "id": "fa75b2ef",
   "metadata": {},
   "outputs": [],
   "source": [
    "submission_data"
   ]
  },
  {
   "cell_type": "code",
   "execution_count": null,
   "id": "82173741",
   "metadata": {},
   "outputs": [],
   "source": []
  },
  {
   "cell_type": "code",
   "execution_count": null,
   "id": "2c9d4ee4",
   "metadata": {},
   "outputs": [],
   "source": [
    "submission_data= submission_data[['ImageId', 'Label']]"
   ]
  },
  {
   "cell_type": "code",
   "execution_count": null,
   "id": "b459ea85",
   "metadata": {},
   "outputs": [],
   "source": [
    "submission_data"
   ]
  },
  {
   "cell_type": "code",
   "execution_count": null,
   "id": "8265db41",
   "metadata": {},
   "outputs": [],
   "source": [
    "\"\"\"Export csv\"\"\"\n",
    "sub = submission_data.to_csv('sub.csv', index=False)"
   ]
  },
  {
   "cell_type": "code",
   "execution_count": null,
   "id": "c8311899",
   "metadata": {},
   "outputs": [],
   "source": []
  },
  {
   "cell_type": "code",
   "execution_count": null,
   "id": "e0b828df",
   "metadata": {},
   "outputs": [],
   "source": []
  }
 ],
 "metadata": {
  "kernelspec": {
   "display_name": "Python 3",
   "language": "python",
   "name": "python3"
  },
  "language_info": {
   "codemirror_mode": {
    "name": "ipython",
    "version": 3
   },
   "file_extension": ".py",
   "mimetype": "text/x-python",
   "name": "python",
   "nbconvert_exporter": "python",
   "pygments_lexer": "ipython3",
   "version": "3.8.8"
  }
 },
 "nbformat": 4,
 "nbformat_minor": 5
}
