{
 "cells": [
  {
   "cell_type": "markdown",
   "id": "b3428d5b",
   "metadata": {},
   "source": [
    "<h3>Make the necessary imports</h3>"
   ]
  },
  {
   "cell_type": "code",
   "execution_count": 1,
   "id": "7cfcbbdc",
   "metadata": {},
   "outputs": [],
   "source": [
    "%matplotlib inline"
   ]
  },
  {
   "cell_type": "code",
   "execution_count": 2,
   "id": "dc9e65a6",
   "metadata": {},
   "outputs": [],
   "source": [
    "import pandas as pd\n",
    "import numpy as np\n",
    "import matplotlib.pyplot as plt\n",
    "\n",
    "import tensorflow as tf\n",
    "from tensorflow.keras.models import Sequential\n",
    "from tensorflow.keras.layers import Input, Dense, BatchNormalization, Dropout\n"
   ]
  },
  {
   "cell_type": "markdown",
   "id": "8989ae2c",
   "metadata": {},
   "source": [
    "<h3>Reading the data:</h3>"
   ]
  },
  {
   "cell_type": "code",
   "execution_count": 3,
   "id": "c98a4903",
   "metadata": {},
   "outputs": [],
   "source": [
    "train_data = pd.read_csv('train.csv')"
   ]
  },
  {
   "cell_type": "code",
   "execution_count": 4,
   "id": "24711f7d",
   "metadata": {},
   "outputs": [],
   "source": [
    "test_data = pd.read_csv('test.csv')"
   ]
  },
  {
   "cell_type": "code",
   "execution_count": 5,
   "id": "16313423",
   "metadata": {},
   "outputs": [
    {
     "data": {
      "text/html": [
       "<div>\n",
       "<style scoped>\n",
       "    .dataframe tbody tr th:only-of-type {\n",
       "        vertical-align: middle;\n",
       "    }\n",
       "\n",
       "    .dataframe tbody tr th {\n",
       "        vertical-align: top;\n",
       "    }\n",
       "\n",
       "    .dataframe thead th {\n",
       "        text-align: right;\n",
       "    }\n",
       "</style>\n",
       "<table border=\"1\" class=\"dataframe\">\n",
       "  <thead>\n",
       "    <tr style=\"text-align: right;\">\n",
       "      <th></th>\n",
       "      <th>label</th>\n",
       "      <th>pixel0</th>\n",
       "      <th>pixel1</th>\n",
       "      <th>pixel2</th>\n",
       "      <th>pixel3</th>\n",
       "      <th>pixel4</th>\n",
       "      <th>pixel5</th>\n",
       "      <th>pixel6</th>\n",
       "      <th>pixel7</th>\n",
       "      <th>pixel8</th>\n",
       "      <th>...</th>\n",
       "      <th>pixel774</th>\n",
       "      <th>pixel775</th>\n",
       "      <th>pixel776</th>\n",
       "      <th>pixel777</th>\n",
       "      <th>pixel778</th>\n",
       "      <th>pixel779</th>\n",
       "      <th>pixel780</th>\n",
       "      <th>pixel781</th>\n",
       "      <th>pixel782</th>\n",
       "      <th>pixel783</th>\n",
       "    </tr>\n",
       "  </thead>\n",
       "  <tbody>\n",
       "    <tr>\n",
       "      <th>0</th>\n",
       "      <td>1</td>\n",
       "      <td>0</td>\n",
       "      <td>0</td>\n",
       "      <td>0</td>\n",
       "      <td>0</td>\n",
       "      <td>0</td>\n",
       "      <td>0</td>\n",
       "      <td>0</td>\n",
       "      <td>0</td>\n",
       "      <td>0</td>\n",
       "      <td>...</td>\n",
       "      <td>0</td>\n",
       "      <td>0</td>\n",
       "      <td>0</td>\n",
       "      <td>0</td>\n",
       "      <td>0</td>\n",
       "      <td>0</td>\n",
       "      <td>0</td>\n",
       "      <td>0</td>\n",
       "      <td>0</td>\n",
       "      <td>0</td>\n",
       "    </tr>\n",
       "    <tr>\n",
       "      <th>1</th>\n",
       "      <td>0</td>\n",
       "      <td>0</td>\n",
       "      <td>0</td>\n",
       "      <td>0</td>\n",
       "      <td>0</td>\n",
       "      <td>0</td>\n",
       "      <td>0</td>\n",
       "      <td>0</td>\n",
       "      <td>0</td>\n",
       "      <td>0</td>\n",
       "      <td>...</td>\n",
       "      <td>0</td>\n",
       "      <td>0</td>\n",
       "      <td>0</td>\n",
       "      <td>0</td>\n",
       "      <td>0</td>\n",
       "      <td>0</td>\n",
       "      <td>0</td>\n",
       "      <td>0</td>\n",
       "      <td>0</td>\n",
       "      <td>0</td>\n",
       "    </tr>\n",
       "    <tr>\n",
       "      <th>2</th>\n",
       "      <td>1</td>\n",
       "      <td>0</td>\n",
       "      <td>0</td>\n",
       "      <td>0</td>\n",
       "      <td>0</td>\n",
       "      <td>0</td>\n",
       "      <td>0</td>\n",
       "      <td>0</td>\n",
       "      <td>0</td>\n",
       "      <td>0</td>\n",
       "      <td>...</td>\n",
       "      <td>0</td>\n",
       "      <td>0</td>\n",
       "      <td>0</td>\n",
       "      <td>0</td>\n",
       "      <td>0</td>\n",
       "      <td>0</td>\n",
       "      <td>0</td>\n",
       "      <td>0</td>\n",
       "      <td>0</td>\n",
       "      <td>0</td>\n",
       "    </tr>\n",
       "    <tr>\n",
       "      <th>3</th>\n",
       "      <td>4</td>\n",
       "      <td>0</td>\n",
       "      <td>0</td>\n",
       "      <td>0</td>\n",
       "      <td>0</td>\n",
       "      <td>0</td>\n",
       "      <td>0</td>\n",
       "      <td>0</td>\n",
       "      <td>0</td>\n",
       "      <td>0</td>\n",
       "      <td>...</td>\n",
       "      <td>0</td>\n",
       "      <td>0</td>\n",
       "      <td>0</td>\n",
       "      <td>0</td>\n",
       "      <td>0</td>\n",
       "      <td>0</td>\n",
       "      <td>0</td>\n",
       "      <td>0</td>\n",
       "      <td>0</td>\n",
       "      <td>0</td>\n",
       "    </tr>\n",
       "    <tr>\n",
       "      <th>4</th>\n",
       "      <td>0</td>\n",
       "      <td>0</td>\n",
       "      <td>0</td>\n",
       "      <td>0</td>\n",
       "      <td>0</td>\n",
       "      <td>0</td>\n",
       "      <td>0</td>\n",
       "      <td>0</td>\n",
       "      <td>0</td>\n",
       "      <td>0</td>\n",
       "      <td>...</td>\n",
       "      <td>0</td>\n",
       "      <td>0</td>\n",
       "      <td>0</td>\n",
       "      <td>0</td>\n",
       "      <td>0</td>\n",
       "      <td>0</td>\n",
       "      <td>0</td>\n",
       "      <td>0</td>\n",
       "      <td>0</td>\n",
       "      <td>0</td>\n",
       "    </tr>\n",
       "    <tr>\n",
       "      <th>5</th>\n",
       "      <td>0</td>\n",
       "      <td>0</td>\n",
       "      <td>0</td>\n",
       "      <td>0</td>\n",
       "      <td>0</td>\n",
       "      <td>0</td>\n",
       "      <td>0</td>\n",
       "      <td>0</td>\n",
       "      <td>0</td>\n",
       "      <td>0</td>\n",
       "      <td>...</td>\n",
       "      <td>0</td>\n",
       "      <td>0</td>\n",
       "      <td>0</td>\n",
       "      <td>0</td>\n",
       "      <td>0</td>\n",
       "      <td>0</td>\n",
       "      <td>0</td>\n",
       "      <td>0</td>\n",
       "      <td>0</td>\n",
       "      <td>0</td>\n",
       "    </tr>\n",
       "    <tr>\n",
       "      <th>6</th>\n",
       "      <td>7</td>\n",
       "      <td>0</td>\n",
       "      <td>0</td>\n",
       "      <td>0</td>\n",
       "      <td>0</td>\n",
       "      <td>0</td>\n",
       "      <td>0</td>\n",
       "      <td>0</td>\n",
       "      <td>0</td>\n",
       "      <td>0</td>\n",
       "      <td>...</td>\n",
       "      <td>0</td>\n",
       "      <td>0</td>\n",
       "      <td>0</td>\n",
       "      <td>0</td>\n",
       "      <td>0</td>\n",
       "      <td>0</td>\n",
       "      <td>0</td>\n",
       "      <td>0</td>\n",
       "      <td>0</td>\n",
       "      <td>0</td>\n",
       "    </tr>\n",
       "    <tr>\n",
       "      <th>7</th>\n",
       "      <td>3</td>\n",
       "      <td>0</td>\n",
       "      <td>0</td>\n",
       "      <td>0</td>\n",
       "      <td>0</td>\n",
       "      <td>0</td>\n",
       "      <td>0</td>\n",
       "      <td>0</td>\n",
       "      <td>0</td>\n",
       "      <td>0</td>\n",
       "      <td>...</td>\n",
       "      <td>0</td>\n",
       "      <td>0</td>\n",
       "      <td>0</td>\n",
       "      <td>0</td>\n",
       "      <td>0</td>\n",
       "      <td>0</td>\n",
       "      <td>0</td>\n",
       "      <td>0</td>\n",
       "      <td>0</td>\n",
       "      <td>0</td>\n",
       "    </tr>\n",
       "    <tr>\n",
       "      <th>8</th>\n",
       "      <td>5</td>\n",
       "      <td>0</td>\n",
       "      <td>0</td>\n",
       "      <td>0</td>\n",
       "      <td>0</td>\n",
       "      <td>0</td>\n",
       "      <td>0</td>\n",
       "      <td>0</td>\n",
       "      <td>0</td>\n",
       "      <td>0</td>\n",
       "      <td>...</td>\n",
       "      <td>0</td>\n",
       "      <td>0</td>\n",
       "      <td>0</td>\n",
       "      <td>0</td>\n",
       "      <td>0</td>\n",
       "      <td>0</td>\n",
       "      <td>0</td>\n",
       "      <td>0</td>\n",
       "      <td>0</td>\n",
       "      <td>0</td>\n",
       "    </tr>\n",
       "    <tr>\n",
       "      <th>9</th>\n",
       "      <td>3</td>\n",
       "      <td>0</td>\n",
       "      <td>0</td>\n",
       "      <td>0</td>\n",
       "      <td>0</td>\n",
       "      <td>0</td>\n",
       "      <td>0</td>\n",
       "      <td>0</td>\n",
       "      <td>0</td>\n",
       "      <td>0</td>\n",
       "      <td>...</td>\n",
       "      <td>0</td>\n",
       "      <td>0</td>\n",
       "      <td>0</td>\n",
       "      <td>0</td>\n",
       "      <td>0</td>\n",
       "      <td>0</td>\n",
       "      <td>0</td>\n",
       "      <td>0</td>\n",
       "      <td>0</td>\n",
       "      <td>0</td>\n",
       "    </tr>\n",
       "  </tbody>\n",
       "</table>\n",
       "<p>10 rows × 785 columns</p>\n",
       "</div>"
      ],
      "text/plain": [
       "   label  pixel0  pixel1  pixel2  pixel3  pixel4  pixel5  pixel6  pixel7  \\\n",
       "0      1       0       0       0       0       0       0       0       0   \n",
       "1      0       0       0       0       0       0       0       0       0   \n",
       "2      1       0       0       0       0       0       0       0       0   \n",
       "3      4       0       0       0       0       0       0       0       0   \n",
       "4      0       0       0       0       0       0       0       0       0   \n",
       "5      0       0       0       0       0       0       0       0       0   \n",
       "6      7       0       0       0       0       0       0       0       0   \n",
       "7      3       0       0       0       0       0       0       0       0   \n",
       "8      5       0       0       0       0       0       0       0       0   \n",
       "9      3       0       0       0       0       0       0       0       0   \n",
       "\n",
       "   pixel8  ...  pixel774  pixel775  pixel776  pixel777  pixel778  pixel779  \\\n",
       "0       0  ...         0         0         0         0         0         0   \n",
       "1       0  ...         0         0         0         0         0         0   \n",
       "2       0  ...         0         0         0         0         0         0   \n",
       "3       0  ...         0         0         0         0         0         0   \n",
       "4       0  ...         0         0         0         0         0         0   \n",
       "5       0  ...         0         0         0         0         0         0   \n",
       "6       0  ...         0         0         0         0         0         0   \n",
       "7       0  ...         0         0         0         0         0         0   \n",
       "8       0  ...         0         0         0         0         0         0   \n",
       "9       0  ...         0         0         0         0         0         0   \n",
       "\n",
       "   pixel780  pixel781  pixel782  pixel783  \n",
       "0         0         0         0         0  \n",
       "1         0         0         0         0  \n",
       "2         0         0         0         0  \n",
       "3         0         0         0         0  \n",
       "4         0         0         0         0  \n",
       "5         0         0         0         0  \n",
       "6         0         0         0         0  \n",
       "7         0         0         0         0  \n",
       "8         0         0         0         0  \n",
       "9         0         0         0         0  \n",
       "\n",
       "[10 rows x 785 columns]"
      ]
     },
     "execution_count": 5,
     "metadata": {},
     "output_type": "execute_result"
    }
   ],
   "source": [
    "train_data.head(10)"
   ]
  },
  {
   "cell_type": "markdown",
   "id": "02d66170",
   "metadata": {},
   "source": [
    "<h3>Splitting the train data into train, test, validation datasets</h3>"
   ]
  },
  {
   "cell_type": "code",
   "execution_count": 6,
   "id": "3f947943",
   "metadata": {},
   "outputs": [
    {
     "data": {
      "text/plain": [
       "(42000, 785)"
      ]
     },
     "execution_count": 6,
     "metadata": {},
     "output_type": "execute_result"
    }
   ],
   "source": [
    "train_data.shape"
   ]
  },
  {
   "cell_type": "code",
   "execution_count": 7,
   "id": "54e25003",
   "metadata": {},
   "outputs": [],
   "source": [
    "\"\"\"\n",
    " More than 50% for the train data\n",
    "\"\"\"\n",
    "\n",
    "\n",
    "\n",
    "train= train_data[:37000]\n",
    "val = train_data[37000:41000]\n",
    "test = train_data[41000:42000]\n",
    "\n"
   ]
  },
  {
   "cell_type": "code",
   "execution_count": 8,
   "id": "2f064300",
   "metadata": {},
   "outputs": [
    {
     "name": "stdout",
     "output_type": "stream",
     "text": [
      "Train dataset shape (37000, 785)\n",
      "Validation dataset shape (4000, 785)\n"
     ]
    }
   ],
   "source": [
    "\n",
    "print(f'Train dataset shape {train.shape}\\n\\\n",
    "Validation dataset shape {val.shape}')\n"
   ]
  },
  {
   "cell_type": "markdown",
   "id": "af167d2d",
   "metadata": {},
   "source": [
    "<h3>Spliting the datasets into X and y </h3>"
   ]
  },
  {
   "cell_type": "markdown",
   "id": "07446e38",
   "metadata": {},
   "source": [
    "<h5>Train supset split</h5>"
   ]
  },
  {
   "cell_type": "code",
   "execution_count": 9,
   "id": "b8a9b153",
   "metadata": {},
   "outputs": [],
   "source": [
    "x_train = train.drop('label',axis=1)      # Reading the images by not including the labels\n",
    "y_train = train['label']              "
   ]
  },
  {
   "cell_type": "code",
   "execution_count": 10,
   "id": "9d879801",
   "metadata": {},
   "outputs": [],
   "source": [
    "x_val = val.drop(columns=['label'])      # Reading the images by not including the labels\n",
    "y_val = val['label']    "
   ]
  },
  {
   "cell_type": "code",
   "execution_count": 11,
   "id": "3c6c166b",
   "metadata": {},
   "outputs": [],
   "source": [
    "y_test = test.label\n",
    "x_test=test.drop('label', axis = 1)\n"
   ]
  },
  {
   "cell_type": "markdown",
   "id": "b08fe3e2",
   "metadata": {},
   "source": [
    "<h3> Preparing the model </h3>"
   ]
  },
  {
   "cell_type": "code",
   "execution_count": 12,
   "id": "1e8eadfe",
   "metadata": {},
   "outputs": [
    {
     "data": {
      "text/plain": [
       "[LogicalDevice(name='/device:CPU:0', device_type='CPU'),\n",
       " LogicalDevice(name='/device:GPU:0', device_type='GPU')]"
      ]
     },
     "execution_count": 12,
     "metadata": {},
     "output_type": "execute_result"
    }
   ],
   "source": [
    "tf.config.list_logical_devices()"
   ]
  },
  {
   "cell_type": "code",
   "execution_count": 18,
   "id": "aa0c727e",
   "metadata": {},
   "outputs": [],
   "source": [
    "tf.keras.backend.clear_session()"
   ]
  },
  {
   "cell_type": "code",
   "execution_count": 19,
   "id": "c9fbad61",
   "metadata": {},
   "outputs": [],
   "source": [
    "model = Sequential([\n",
    "    Input(shape = (784)),\n",
    "   \n",
    "    Dense(64 , activation = \"relu\"),\n",
    "    BatchNormalization(),\n",
    "    Dense(64 , activation = \"relu\"),\n",
    "    BatchNormalization(),\n",
    "    Dense(64 , activation = \"relu\"),\n",
    "    BatchNormalization(),\n",
    "    Dropout(0.1),\n",
    "  \n",
    "    Dense(32,  activation = \"relu\"),\n",
    "    BatchNormalization(),\n",
    "    Dense(32,  activation = \"relu\"),\n",
    "    BatchNormalization(),\n",
    "    Dense(32,  activation = \"relu\"),\n",
    "    BatchNormalization(),\n",
    "    Dropout(0.5),\n",
    "  \n",
    "  \n",
    "    Dense(16,  activation = \"relu\"),\n",
    "    BatchNormalization(),\n",
    "    Dense(16,  activation = \"relu\"),\n",
    "    BatchNormalization(),\n",
    "    Dense(16,  activation = \"relu\"),\n",
    "    BatchNormalization(),\n",
    "    Dropout(0.1),\n",
    "    \n",
    "    Dense(10,  activation = \"softmax\")\n",
    "])"
   ]
  },
  {
   "cell_type": "code",
   "execution_count": 20,
   "id": "a56325cd",
   "metadata": {},
   "outputs": [
    {
     "name": "stdout",
     "output_type": "stream",
     "text": [
      "Model: \"sequential\"\n",
      "_________________________________________________________________\n",
      " Layer (type)                Output Shape              Param #   \n",
      "=================================================================\n",
      " dense (Dense)               (None, 64)                50240     \n",
      "                                                                 \n",
      " batch_normalization (BatchN  (None, 64)               256       \n",
      " ormalization)                                                   \n",
      "                                                                 \n",
      " dense_1 (Dense)             (None, 64)                4160      \n",
      "                                                                 \n",
      " batch_normalization_1 (Batc  (None, 64)               256       \n",
      " hNormalization)                                                 \n",
      "                                                                 \n",
      " dense_2 (Dense)             (None, 64)                4160      \n",
      "                                                                 \n",
      " batch_normalization_2 (Batc  (None, 64)               256       \n",
      " hNormalization)                                                 \n",
      "                                                                 \n",
      " dropout (Dropout)           (None, 64)                0         \n",
      "                                                                 \n",
      " dense_3 (Dense)             (None, 32)                2080      \n",
      "                                                                 \n",
      " batch_normalization_3 (Batc  (None, 32)               128       \n",
      " hNormalization)                                                 \n",
      "                                                                 \n",
      " dense_4 (Dense)             (None, 32)                1056      \n",
      "                                                                 \n",
      " batch_normalization_4 (Batc  (None, 32)               128       \n",
      " hNormalization)                                                 \n",
      "                                                                 \n",
      " dense_5 (Dense)             (None, 32)                1056      \n",
      "                                                                 \n",
      " batch_normalization_5 (Batc  (None, 32)               128       \n",
      " hNormalization)                                                 \n",
      "                                                                 \n",
      " dropout_1 (Dropout)         (None, 32)                0         \n",
      "                                                                 \n",
      " dense_6 (Dense)             (None, 16)                528       \n",
      "                                                                 \n",
      " batch_normalization_6 (Batc  (None, 16)               64        \n",
      " hNormalization)                                                 \n",
      "                                                                 \n",
      " dense_7 (Dense)             (None, 16)                272       \n",
      "                                                                 \n",
      " batch_normalization_7 (Batc  (None, 16)               64        \n",
      " hNormalization)                                                 \n",
      "                                                                 \n",
      " dense_8 (Dense)             (None, 16)                272       \n",
      "                                                                 \n",
      " batch_normalization_8 (Batc  (None, 16)               64        \n",
      " hNormalization)                                                 \n",
      "                                                                 \n",
      " dropout_2 (Dropout)         (None, 16)                0         \n",
      "                                                                 \n",
      " dense_9 (Dense)             (None, 10)                170       \n",
      "                                                                 \n",
      "=================================================================\n",
      "Total params: 65,338\n",
      "Trainable params: 64,666\n",
      "Non-trainable params: 672\n",
      "_________________________________________________________________\n"
     ]
    }
   ],
   "source": [
    "model.summary()"
   ]
  },
  {
   "cell_type": "code",
   "execution_count": 21,
   "id": "773b88fe",
   "metadata": {},
   "outputs": [],
   "source": [
    "model.compile(\n",
    "    optimizer=\"adam\",\n",
    "    loss=\"sparse_categorical_crossentropy\",\n",
    "    metrics = [\"accuracy\"]\n",
    "    )"
   ]
  },
  {
   "cell_type": "markdown",
   "id": "d41ace96",
   "metadata": {},
   "source": [
    "<h3> Fit the data: </h3>"
   ]
  },
  {
   "cell_type": "code",
   "execution_count": 22,
   "id": "41f52253",
   "metadata": {},
   "outputs": [
    {
     "name": "stdout",
     "output_type": "stream",
     "text": [
      "Epoch 1/200\n",
      "216/216 [==============================] - 4s 10ms/step - loss: 1.8620 - accuracy: 0.3620 - val_loss: 0.9648 - val_accuracy: 0.7180\n",
      "Epoch 2/200\n",
      "216/216 [==============================] - 2s 9ms/step - loss: 0.8504 - accuracy: 0.7435 - val_loss: 0.4106 - val_accuracy: 0.8940\n",
      "Epoch 3/200\n",
      "216/216 [==============================] - 2s 9ms/step - loss: 0.4715 - accuracy: 0.8766 - val_loss: 0.2687 - val_accuracy: 0.9308\n",
      "Epoch 4/200\n",
      "216/216 [==============================] - 2s 9ms/step - loss: 0.3363 - accuracy: 0.9169 - val_loss: 0.2411 - val_accuracy: 0.9358\n",
      "Epoch 5/200\n",
      "216/216 [==============================] - 2s 9ms/step - loss: 0.2703 - accuracy: 0.9336 - val_loss: 0.2045 - val_accuracy: 0.9482\n",
      "Epoch 6/200\n",
      "216/216 [==============================] - 2s 9ms/step - loss: 0.2352 - accuracy: 0.9435 - val_loss: 0.1939 - val_accuracy: 0.9555\n",
      "Epoch 7/200\n",
      "216/216 [==============================] - 2s 9ms/step - loss: 0.2062 - accuracy: 0.9520 - val_loss: 0.1834 - val_accuracy: 0.9590\n",
      "Epoch 8/200\n",
      "216/216 [==============================] - 2s 9ms/step - loss: 0.1820 - accuracy: 0.9579 - val_loss: 0.1790 - val_accuracy: 0.9572\n",
      "Epoch 9/200\n",
      "216/216 [==============================] - 2s 9ms/step - loss: 0.1681 - accuracy: 0.9609 - val_loss: 0.1968 - val_accuracy: 0.9563\n",
      "Epoch 10/200\n",
      "216/216 [==============================] - 2s 9ms/step - loss: 0.1591 - accuracy: 0.9628 - val_loss: 0.1869 - val_accuracy: 0.9595\n",
      "Epoch 11/200\n",
      "216/216 [==============================] - 2s 8ms/step - loss: 0.1419 - accuracy: 0.9658 - val_loss: 0.1905 - val_accuracy: 0.9565\n",
      "Epoch 12/200\n",
      "216/216 [==============================] - 2s 8ms/step - loss: 0.1323 - accuracy: 0.9690 - val_loss: 0.1623 - val_accuracy: 0.9643\n",
      "Epoch 13/200\n",
      "216/216 [==============================] - 2s 9ms/step - loss: 0.1275 - accuracy: 0.9708 - val_loss: 0.1844 - val_accuracy: 0.9575\n",
      "Epoch 14/200\n",
      "216/216 [==============================] - 2s 9ms/step - loss: 0.1196 - accuracy: 0.9720 - val_loss: 0.1570 - val_accuracy: 0.9650\n",
      "Epoch 15/200\n",
      "216/216 [==============================] - 2s 9ms/step - loss: 0.1074 - accuracy: 0.9754 - val_loss: 0.1734 - val_accuracy: 0.9647\n",
      "Epoch 16/200\n",
      "216/216 [==============================] - 2s 9ms/step - loss: 0.1052 - accuracy: 0.9758 - val_loss: 0.1565 - val_accuracy: 0.9675\n",
      "Epoch 17/200\n",
      "216/216 [==============================] - 2s 9ms/step - loss: 0.1001 - accuracy: 0.9778 - val_loss: 0.1595 - val_accuracy: 0.9655\n",
      "Epoch 18/200\n",
      "216/216 [==============================] - 2s 8ms/step - loss: 0.0975 - accuracy: 0.9778 - val_loss: 0.1704 - val_accuracy: 0.9640\n",
      "Epoch 19/200\n",
      "216/216 [==============================] - 2s 8ms/step - loss: 0.1007 - accuracy: 0.9773 - val_loss: 0.1338 - val_accuracy: 0.9707\n",
      "Epoch 20/200\n",
      "216/216 [==============================] - 2s 8ms/step - loss: 0.0970 - accuracy: 0.9769 - val_loss: 0.1372 - val_accuracy: 0.9685\n",
      "Epoch 21/200\n",
      "216/216 [==============================] - 2s 8ms/step - loss: 0.0917 - accuracy: 0.9782 - val_loss: 0.1547 - val_accuracy: 0.9690\n",
      "Epoch 22/200\n",
      "216/216 [==============================] - 2s 8ms/step - loss: 0.0909 - accuracy: 0.9797 - val_loss: 0.1298 - val_accuracy: 0.9707\n",
      "Epoch 23/200\n",
      "216/216 [==============================] - 2s 8ms/step - loss: 0.0767 - accuracy: 0.9813 - val_loss: 0.1329 - val_accuracy: 0.9728\n",
      "Epoch 24/200\n",
      "216/216 [==============================] - 2s 9ms/step - loss: 0.0688 - accuracy: 0.9836 - val_loss: 0.1448 - val_accuracy: 0.9718\n",
      "Epoch 25/200\n",
      "216/216 [==============================] - 2s 9ms/step - loss: 0.0656 - accuracy: 0.9849 - val_loss: 0.1533 - val_accuracy: 0.9682\n",
      "Epoch 26/200\n",
      "216/216 [==============================] - 2s 8ms/step - loss: 0.0725 - accuracy: 0.9835 - val_loss: 0.1436 - val_accuracy: 0.9720\n",
      "Epoch 27/200\n",
      "216/216 [==============================] - 2s 9ms/step - loss: 0.0619 - accuracy: 0.9851 - val_loss: 0.1306 - val_accuracy: 0.9728\n",
      "Epoch 28/200\n",
      "216/216 [==============================] - 2s 9ms/step - loss: 0.0653 - accuracy: 0.9840 - val_loss: 0.1401 - val_accuracy: 0.9725\n",
      "Epoch 29/200\n",
      "216/216 [==============================] - 2s 9ms/step - loss: 0.0592 - accuracy: 0.9859 - val_loss: 0.1297 - val_accuracy: 0.9735\n",
      "Epoch 30/200\n",
      "216/216 [==============================] - 2s 9ms/step - loss: 0.0793 - accuracy: 0.9805 - val_loss: 0.1386 - val_accuracy: 0.9730\n",
      "Epoch 31/200\n",
      "216/216 [==============================] - 2s 8ms/step - loss: 0.0580 - accuracy: 0.9864 - val_loss: 0.1372 - val_accuracy: 0.9707\n",
      "Epoch 32/200\n",
      "216/216 [==============================] - 2s 9ms/step - loss: 0.0502 - accuracy: 0.9882 - val_loss: 0.1457 - val_accuracy: 0.9728\n",
      "Epoch 33/200\n",
      "216/216 [==============================] - 2s 9ms/step - loss: 0.0542 - accuracy: 0.9873 - val_loss: 0.1529 - val_accuracy: 0.9697\n",
      "Epoch 34/200\n",
      "216/216 [==============================] - 2s 9ms/step - loss: 0.0537 - accuracy: 0.9875 - val_loss: 0.1343 - val_accuracy: 0.9722\n",
      "Epoch 35/200\n",
      "216/216 [==============================] - 2s 8ms/step - loss: 0.0543 - accuracy: 0.9869 - val_loss: 0.1472 - val_accuracy: 0.9703\n",
      "Epoch 36/200\n",
      "216/216 [==============================] - 2s 9ms/step - loss: 0.0593 - accuracy: 0.9866 - val_loss: 0.1587 - val_accuracy: 0.9693\n",
      "Epoch 37/200\n",
      "216/216 [==============================] - 2s 9ms/step - loss: 0.0543 - accuracy: 0.9868 - val_loss: 0.1504 - val_accuracy: 0.9705\n",
      "Epoch 38/200\n",
      "216/216 [==============================] - 2s 9ms/step - loss: 0.0508 - accuracy: 0.9877 - val_loss: 0.1407 - val_accuracy: 0.9732\n",
      "Epoch 39/200\n",
      "216/216 [==============================] - 2s 9ms/step - loss: 0.0631 - accuracy: 0.9851 - val_loss: 0.1474 - val_accuracy: 0.9697\n",
      "Epoch 40/200\n",
      "216/216 [==============================] - 2s 9ms/step - loss: 0.0500 - accuracy: 0.9879 - val_loss: 0.1577 - val_accuracy: 0.9690\n",
      "Epoch 41/200\n",
      "216/216 [==============================] - 2s 9ms/step - loss: 0.0383 - accuracy: 0.9912 - val_loss: 0.1455 - val_accuracy: 0.9718\n",
      "Epoch 42/200\n",
      "216/216 [==============================] - 2s 8ms/step - loss: 0.0402 - accuracy: 0.9904 - val_loss: 0.1545 - val_accuracy: 0.9695\n",
      "Epoch 43/200\n",
      "216/216 [==============================] - 2s 9ms/step - loss: 0.0449 - accuracy: 0.9896 - val_loss: 0.1440 - val_accuracy: 0.9728\n",
      "Epoch 44/200\n",
      "216/216 [==============================] - 2s 9ms/step - loss: 0.0460 - accuracy: 0.9898 - val_loss: 0.1664 - val_accuracy: 0.9703\n",
      "Epoch 45/200\n",
      "216/216 [==============================] - 2s 10ms/step - loss: 0.0392 - accuracy: 0.9911 - val_loss: 0.1249 - val_accuracy: 0.9762\n",
      "Epoch 46/200\n",
      "216/216 [==============================] - 2s 9ms/step - loss: 0.0374 - accuracy: 0.9912 - val_loss: 0.1506 - val_accuracy: 0.9735\n",
      "Epoch 47/200\n",
      "216/216 [==============================] - 2s 9ms/step - loss: 0.0441 - accuracy: 0.9896 - val_loss: 0.1493 - val_accuracy: 0.9715\n",
      "Epoch 48/200\n",
      "216/216 [==============================] - 2s 9ms/step - loss: 0.0574 - accuracy: 0.9864 - val_loss: 0.1320 - val_accuracy: 0.9765\n",
      "Epoch 49/200\n",
      "216/216 [==============================] - 2s 9ms/step - loss: 0.0411 - accuracy: 0.9898 - val_loss: 0.1411 - val_accuracy: 0.9737\n",
      "Epoch 50/200\n",
      "216/216 [==============================] - 2s 9ms/step - loss: 0.0335 - accuracy: 0.9918 - val_loss: 0.1381 - val_accuracy: 0.9730\n",
      "Epoch 51/200\n",
      "216/216 [==============================] - 2s 9ms/step - loss: 0.0354 - accuracy: 0.9915 - val_loss: 0.1439 - val_accuracy: 0.9745\n",
      "Epoch 52/200\n",
      "216/216 [==============================] - 2s 9ms/step - loss: 0.0382 - accuracy: 0.9911 - val_loss: 0.1326 - val_accuracy: 0.9750\n",
      "Epoch 53/200\n",
      "216/216 [==============================] - 2s 8ms/step - loss: 0.0361 - accuracy: 0.9918 - val_loss: 0.1431 - val_accuracy: 0.9725\n",
      "Epoch 54/200\n",
      "216/216 [==============================] - 2s 8ms/step - loss: 0.0333 - accuracy: 0.9924 - val_loss: 0.1396 - val_accuracy: 0.9732\n",
      "Epoch 55/200\n",
      "216/216 [==============================] - 2s 9ms/step - loss: 0.0322 - accuracy: 0.9919 - val_loss: 0.1367 - val_accuracy: 0.9732\n",
      "Epoch 56/200\n",
      "174/216 [=======================>......] - ETA: 0s - loss: 0.0417 - accuracy: 0.9890"
     ]
    },
    {
     "ename": "KeyboardInterrupt",
     "evalue": "",
     "output_type": "error",
     "traceback": [
      "\u001b[1;31m---------------------------------------------------------------------------\u001b[0m",
      "\u001b[1;31mKeyboardInterrupt\u001b[0m                         Traceback (most recent call last)",
      "\u001b[1;32m<ipython-input-22-292f541b437a>\u001b[0m in \u001b[0;36m<module>\u001b[1;34m\u001b[0m\n\u001b[1;32m----> 1\u001b[1;33m model.fit(\n\u001b[0m\u001b[0;32m      2\u001b[0m     \u001b[0mx_train\u001b[0m\u001b[1;33m,\u001b[0m\u001b[1;33m\u001b[0m\u001b[1;33m\u001b[0m\u001b[0m\n\u001b[0;32m      3\u001b[0m     \u001b[0my_train\u001b[0m\u001b[1;33m,\u001b[0m\u001b[1;33m\u001b[0m\u001b[1;33m\u001b[0m\u001b[0m\n\u001b[0;32m      4\u001b[0m     \u001b[0mvalidation_data\u001b[0m \u001b[1;33m=\u001b[0m\u001b[1;33m(\u001b[0m\u001b[0mx_val\u001b[0m\u001b[1;33m,\u001b[0m \u001b[0my_val\u001b[0m\u001b[1;33m)\u001b[0m\u001b[1;33m,\u001b[0m\u001b[1;33m\u001b[0m\u001b[1;33m\u001b[0m\u001b[0m\n\u001b[0;32m      5\u001b[0m     \u001b[0mepochs\u001b[0m\u001b[1;33m=\u001b[0m\u001b[1;36m200\u001b[0m\u001b[1;33m,\u001b[0m\u001b[1;33m\u001b[0m\u001b[1;33m\u001b[0m\u001b[0m\n",
      "\u001b[1;32m~\\anaconda3\\lib\\site-packages\\keras\\utils\\traceback_utils.py\u001b[0m in \u001b[0;36merror_handler\u001b[1;34m(*args, **kwargs)\u001b[0m\n\u001b[0;32m     62\u001b[0m     \u001b[0mfiltered_tb\u001b[0m \u001b[1;33m=\u001b[0m \u001b[1;32mNone\u001b[0m\u001b[1;33m\u001b[0m\u001b[1;33m\u001b[0m\u001b[0m\n\u001b[0;32m     63\u001b[0m     \u001b[1;32mtry\u001b[0m\u001b[1;33m:\u001b[0m\u001b[1;33m\u001b[0m\u001b[1;33m\u001b[0m\u001b[0m\n\u001b[1;32m---> 64\u001b[1;33m       \u001b[1;32mreturn\u001b[0m \u001b[0mfn\u001b[0m\u001b[1;33m(\u001b[0m\u001b[1;33m*\u001b[0m\u001b[0margs\u001b[0m\u001b[1;33m,\u001b[0m \u001b[1;33m**\u001b[0m\u001b[0mkwargs\u001b[0m\u001b[1;33m)\u001b[0m\u001b[1;33m\u001b[0m\u001b[1;33m\u001b[0m\u001b[0m\n\u001b[0m\u001b[0;32m     65\u001b[0m     \u001b[1;32mexcept\u001b[0m \u001b[0mException\u001b[0m \u001b[1;32mas\u001b[0m \u001b[0me\u001b[0m\u001b[1;33m:\u001b[0m  \u001b[1;31m# pylint: disable=broad-except\u001b[0m\u001b[1;33m\u001b[0m\u001b[1;33m\u001b[0m\u001b[0m\n\u001b[0;32m     66\u001b[0m       \u001b[0mfiltered_tb\u001b[0m \u001b[1;33m=\u001b[0m \u001b[0m_process_traceback_frames\u001b[0m\u001b[1;33m(\u001b[0m\u001b[0me\u001b[0m\u001b[1;33m.\u001b[0m\u001b[0m__traceback__\u001b[0m\u001b[1;33m)\u001b[0m\u001b[1;33m\u001b[0m\u001b[1;33m\u001b[0m\u001b[0m\n",
      "\u001b[1;32m~\\anaconda3\\lib\\site-packages\\keras\\engine\\training.py\u001b[0m in \u001b[0;36mfit\u001b[1;34m(self, x, y, batch_size, epochs, verbose, callbacks, validation_split, validation_data, shuffle, class_weight, sample_weight, initial_epoch, steps_per_epoch, validation_steps, validation_batch_size, validation_freq, max_queue_size, workers, use_multiprocessing)\u001b[0m\n\u001b[0;32m   1382\u001b[0m                 _r=1):\n\u001b[0;32m   1383\u001b[0m               \u001b[0mcallbacks\u001b[0m\u001b[1;33m.\u001b[0m\u001b[0mon_train_batch_begin\u001b[0m\u001b[1;33m(\u001b[0m\u001b[0mstep\u001b[0m\u001b[1;33m)\u001b[0m\u001b[1;33m\u001b[0m\u001b[1;33m\u001b[0m\u001b[0m\n\u001b[1;32m-> 1384\u001b[1;33m               \u001b[0mtmp_logs\u001b[0m \u001b[1;33m=\u001b[0m \u001b[0mself\u001b[0m\u001b[1;33m.\u001b[0m\u001b[0mtrain_function\u001b[0m\u001b[1;33m(\u001b[0m\u001b[0miterator\u001b[0m\u001b[1;33m)\u001b[0m\u001b[1;33m\u001b[0m\u001b[1;33m\u001b[0m\u001b[0m\n\u001b[0m\u001b[0;32m   1385\u001b[0m               \u001b[1;32mif\u001b[0m \u001b[0mdata_handler\u001b[0m\u001b[1;33m.\u001b[0m\u001b[0mshould_sync\u001b[0m\u001b[1;33m:\u001b[0m\u001b[1;33m\u001b[0m\u001b[1;33m\u001b[0m\u001b[0m\n\u001b[0;32m   1386\u001b[0m                 \u001b[0mcontext\u001b[0m\u001b[1;33m.\u001b[0m\u001b[0masync_wait\u001b[0m\u001b[1;33m(\u001b[0m\u001b[1;33m)\u001b[0m\u001b[1;33m\u001b[0m\u001b[1;33m\u001b[0m\u001b[0m\n",
      "\u001b[1;32m~\\anaconda3\\lib\\site-packages\\tensorflow\\python\\util\\traceback_utils.py\u001b[0m in \u001b[0;36merror_handler\u001b[1;34m(*args, **kwargs)\u001b[0m\n\u001b[0;32m    148\u001b[0m     \u001b[0mfiltered_tb\u001b[0m \u001b[1;33m=\u001b[0m \u001b[1;32mNone\u001b[0m\u001b[1;33m\u001b[0m\u001b[1;33m\u001b[0m\u001b[0m\n\u001b[0;32m    149\u001b[0m     \u001b[1;32mtry\u001b[0m\u001b[1;33m:\u001b[0m\u001b[1;33m\u001b[0m\u001b[1;33m\u001b[0m\u001b[0m\n\u001b[1;32m--> 150\u001b[1;33m       \u001b[1;32mreturn\u001b[0m \u001b[0mfn\u001b[0m\u001b[1;33m(\u001b[0m\u001b[1;33m*\u001b[0m\u001b[0margs\u001b[0m\u001b[1;33m,\u001b[0m \u001b[1;33m**\u001b[0m\u001b[0mkwargs\u001b[0m\u001b[1;33m)\u001b[0m\u001b[1;33m\u001b[0m\u001b[1;33m\u001b[0m\u001b[0m\n\u001b[0m\u001b[0;32m    151\u001b[0m     \u001b[1;32mexcept\u001b[0m \u001b[0mException\u001b[0m \u001b[1;32mas\u001b[0m \u001b[0me\u001b[0m\u001b[1;33m:\u001b[0m\u001b[1;33m\u001b[0m\u001b[1;33m\u001b[0m\u001b[0m\n\u001b[0;32m    152\u001b[0m       \u001b[0mfiltered_tb\u001b[0m \u001b[1;33m=\u001b[0m \u001b[0m_process_traceback_frames\u001b[0m\u001b[1;33m(\u001b[0m\u001b[0me\u001b[0m\u001b[1;33m.\u001b[0m\u001b[0m__traceback__\u001b[0m\u001b[1;33m)\u001b[0m\u001b[1;33m\u001b[0m\u001b[1;33m\u001b[0m\u001b[0m\n",
      "\u001b[1;32m~\\anaconda3\\lib\\site-packages\\tensorflow\\python\\eager\\def_function.py\u001b[0m in \u001b[0;36m__call__\u001b[1;34m(self, *args, **kwds)\u001b[0m\n\u001b[0;32m    913\u001b[0m \u001b[1;33m\u001b[0m\u001b[0m\n\u001b[0;32m    914\u001b[0m       \u001b[1;32mwith\u001b[0m \u001b[0mOptionalXlaContext\u001b[0m\u001b[1;33m(\u001b[0m\u001b[0mself\u001b[0m\u001b[1;33m.\u001b[0m\u001b[0m_jit_compile\u001b[0m\u001b[1;33m)\u001b[0m\u001b[1;33m:\u001b[0m\u001b[1;33m\u001b[0m\u001b[1;33m\u001b[0m\u001b[0m\n\u001b[1;32m--> 915\u001b[1;33m         \u001b[0mresult\u001b[0m \u001b[1;33m=\u001b[0m \u001b[0mself\u001b[0m\u001b[1;33m.\u001b[0m\u001b[0m_call\u001b[0m\u001b[1;33m(\u001b[0m\u001b[1;33m*\u001b[0m\u001b[0margs\u001b[0m\u001b[1;33m,\u001b[0m \u001b[1;33m**\u001b[0m\u001b[0mkwds\u001b[0m\u001b[1;33m)\u001b[0m\u001b[1;33m\u001b[0m\u001b[1;33m\u001b[0m\u001b[0m\n\u001b[0m\u001b[0;32m    916\u001b[0m \u001b[1;33m\u001b[0m\u001b[0m\n\u001b[0;32m    917\u001b[0m       \u001b[0mnew_tracing_count\u001b[0m \u001b[1;33m=\u001b[0m \u001b[0mself\u001b[0m\u001b[1;33m.\u001b[0m\u001b[0mexperimental_get_tracing_count\u001b[0m\u001b[1;33m(\u001b[0m\u001b[1;33m)\u001b[0m\u001b[1;33m\u001b[0m\u001b[1;33m\u001b[0m\u001b[0m\n",
      "\u001b[1;32m~\\anaconda3\\lib\\site-packages\\tensorflow\\python\\eager\\def_function.py\u001b[0m in \u001b[0;36m_call\u001b[1;34m(self, *args, **kwds)\u001b[0m\n\u001b[0;32m    945\u001b[0m       \u001b[1;31m# In this case we have created variables on the first call, so we run the\u001b[0m\u001b[1;33m\u001b[0m\u001b[1;33m\u001b[0m\u001b[1;33m\u001b[0m\u001b[0m\n\u001b[0;32m    946\u001b[0m       \u001b[1;31m# defunned version which is guaranteed to never create variables.\u001b[0m\u001b[1;33m\u001b[0m\u001b[1;33m\u001b[0m\u001b[1;33m\u001b[0m\u001b[0m\n\u001b[1;32m--> 947\u001b[1;33m       \u001b[1;32mreturn\u001b[0m \u001b[0mself\u001b[0m\u001b[1;33m.\u001b[0m\u001b[0m_stateless_fn\u001b[0m\u001b[1;33m(\u001b[0m\u001b[1;33m*\u001b[0m\u001b[0margs\u001b[0m\u001b[1;33m,\u001b[0m \u001b[1;33m**\u001b[0m\u001b[0mkwds\u001b[0m\u001b[1;33m)\u001b[0m  \u001b[1;31m# pylint: disable=not-callable\u001b[0m\u001b[1;33m\u001b[0m\u001b[1;33m\u001b[0m\u001b[0m\n\u001b[0m\u001b[0;32m    948\u001b[0m     \u001b[1;32melif\u001b[0m \u001b[0mself\u001b[0m\u001b[1;33m.\u001b[0m\u001b[0m_stateful_fn\u001b[0m \u001b[1;32mis\u001b[0m \u001b[1;32mnot\u001b[0m \u001b[1;32mNone\u001b[0m\u001b[1;33m:\u001b[0m\u001b[1;33m\u001b[0m\u001b[1;33m\u001b[0m\u001b[0m\n\u001b[0;32m    949\u001b[0m       \u001b[1;31m# Release the lock early so that multiple threads can perform the call\u001b[0m\u001b[1;33m\u001b[0m\u001b[1;33m\u001b[0m\u001b[1;33m\u001b[0m\u001b[0m\n",
      "\u001b[1;32m~\\anaconda3\\lib\\site-packages\\tensorflow\\python\\eager\\function.py\u001b[0m in \u001b[0;36m__call__\u001b[1;34m(self, *args, **kwargs)\u001b[0m\n\u001b[0;32m   2954\u001b[0m       (graph_function,\n\u001b[0;32m   2955\u001b[0m        filtered_flat_args) = self._maybe_define_function(args, kwargs)\n\u001b[1;32m-> 2956\u001b[1;33m     return graph_function._call_flat(\n\u001b[0m\u001b[0;32m   2957\u001b[0m         filtered_flat_args, captured_inputs=graph_function.captured_inputs)  # pylint: disable=protected-access\n\u001b[0;32m   2958\u001b[0m \u001b[1;33m\u001b[0m\u001b[0m\n",
      "\u001b[1;32m~\\anaconda3\\lib\\site-packages\\tensorflow\\python\\eager\\function.py\u001b[0m in \u001b[0;36m_call_flat\u001b[1;34m(self, args, captured_inputs, cancellation_manager)\u001b[0m\n\u001b[0;32m   1851\u001b[0m         and executing_eagerly):\n\u001b[0;32m   1852\u001b[0m       \u001b[1;31m# No tape is watching; skip to running the function.\u001b[0m\u001b[1;33m\u001b[0m\u001b[1;33m\u001b[0m\u001b[1;33m\u001b[0m\u001b[0m\n\u001b[1;32m-> 1853\u001b[1;33m       return self._build_call_outputs(self._inference_function.call(\n\u001b[0m\u001b[0;32m   1854\u001b[0m           ctx, args, cancellation_manager=cancellation_manager))\n\u001b[0;32m   1855\u001b[0m     forward_backward = self._select_forward_and_backward_functions(\n",
      "\u001b[1;32m~\\anaconda3\\lib\\site-packages\\tensorflow\\python\\eager\\function.py\u001b[0m in \u001b[0;36mcall\u001b[1;34m(self, ctx, args, cancellation_manager)\u001b[0m\n\u001b[0;32m    497\u001b[0m       \u001b[1;32mwith\u001b[0m \u001b[0m_InterpolateFunctionError\u001b[0m\u001b[1;33m(\u001b[0m\u001b[0mself\u001b[0m\u001b[1;33m)\u001b[0m\u001b[1;33m:\u001b[0m\u001b[1;33m\u001b[0m\u001b[1;33m\u001b[0m\u001b[0m\n\u001b[0;32m    498\u001b[0m         \u001b[1;32mif\u001b[0m \u001b[0mcancellation_manager\u001b[0m \u001b[1;32mis\u001b[0m \u001b[1;32mNone\u001b[0m\u001b[1;33m:\u001b[0m\u001b[1;33m\u001b[0m\u001b[1;33m\u001b[0m\u001b[0m\n\u001b[1;32m--> 499\u001b[1;33m           outputs = execute.execute(\n\u001b[0m\u001b[0;32m    500\u001b[0m               \u001b[0mstr\u001b[0m\u001b[1;33m(\u001b[0m\u001b[0mself\u001b[0m\u001b[1;33m.\u001b[0m\u001b[0msignature\u001b[0m\u001b[1;33m.\u001b[0m\u001b[0mname\u001b[0m\u001b[1;33m)\u001b[0m\u001b[1;33m,\u001b[0m\u001b[1;33m\u001b[0m\u001b[1;33m\u001b[0m\u001b[0m\n\u001b[0;32m    501\u001b[0m               \u001b[0mnum_outputs\u001b[0m\u001b[1;33m=\u001b[0m\u001b[0mself\u001b[0m\u001b[1;33m.\u001b[0m\u001b[0m_num_outputs\u001b[0m\u001b[1;33m,\u001b[0m\u001b[1;33m\u001b[0m\u001b[1;33m\u001b[0m\u001b[0m\n",
      "\u001b[1;32m~\\anaconda3\\lib\\site-packages\\tensorflow\\python\\eager\\execute.py\u001b[0m in \u001b[0;36mquick_execute\u001b[1;34m(op_name, num_outputs, inputs, attrs, ctx, name)\u001b[0m\n\u001b[0;32m     52\u001b[0m   \u001b[1;32mtry\u001b[0m\u001b[1;33m:\u001b[0m\u001b[1;33m\u001b[0m\u001b[1;33m\u001b[0m\u001b[0m\n\u001b[0;32m     53\u001b[0m     \u001b[0mctx\u001b[0m\u001b[1;33m.\u001b[0m\u001b[0mensure_initialized\u001b[0m\u001b[1;33m(\u001b[0m\u001b[1;33m)\u001b[0m\u001b[1;33m\u001b[0m\u001b[1;33m\u001b[0m\u001b[0m\n\u001b[1;32m---> 54\u001b[1;33m     tensors = pywrap_tfe.TFE_Py_Execute(ctx._handle, device_name, op_name,\n\u001b[0m\u001b[0;32m     55\u001b[0m                                         inputs, attrs, num_outputs)\n\u001b[0;32m     56\u001b[0m   \u001b[1;32mexcept\u001b[0m \u001b[0mcore\u001b[0m\u001b[1;33m.\u001b[0m\u001b[0m_NotOkStatusException\u001b[0m \u001b[1;32mas\u001b[0m \u001b[0me\u001b[0m\u001b[1;33m:\u001b[0m\u001b[1;33m\u001b[0m\u001b[1;33m\u001b[0m\u001b[0m\n",
      "\u001b[1;31mKeyboardInterrupt\u001b[0m: "
     ]
    }
   ],
   "source": [
    "model.fit(\n",
    "    x_train,\n",
    "    y_train,\n",
    "    validation_data =(x_val, y_val),\n",
    "    epochs=50, \n",
    "    batch_size=128\n",
    "#     callbacks=[TensorBoard(log_dir=\"./logs_val\")]\n",
    ")"
   ]
  },
  {
   "cell_type": "markdown",
   "id": "70b9eecf",
   "metadata": {},
   "source": [
    "<h3> Make prediction on x_test </h3>"
   ]
  },
  {
   "cell_type": "code",
   "execution_count": null,
   "id": "3ea143ae",
   "metadata": {},
   "outputs": [],
   "source": [
    "test_predic= model.predict(x_test)"
   ]
  },
  {
   "cell_type": "code",
   "execution_count": null,
   "id": "9df9073d",
   "metadata": {},
   "outputs": [],
   "source": [
    "test_predic"
   ]
  },
  {
   "cell_type": "markdown",
   "id": "2df8d5a9",
   "metadata": {},
   "source": [
    "<h3> Using argmax to take the most propable prediction</h3>"
   ]
  },
  {
   "cell_type": "code",
   "execution_count": null,
   "id": "5da711b9",
   "metadata": {},
   "outputs": [],
   "source": [
    "answer_label=test_predic.argmax(axis=1)"
   ]
  },
  {
   "cell_type": "code",
   "execution_count": null,
   "id": "5f560cf3",
   "metadata": {},
   "outputs": [],
   "source": [
    "answer_label[0]"
   ]
  },
  {
   "cell_type": "markdown",
   "id": "daea2964",
   "metadata": {},
   "source": [
    "<h3> Results </h3>"
   ]
  },
  {
   "cell_type": "code",
   "execution_count": null,
   "id": "d1c0dec9",
   "metadata": {},
   "outputs": [],
   "source": [
    "for i in range(10):\n",
    "    print(f'Real value : {y_test.iloc[i]} vs Predicted value :{answer_label[i]}')\n"
   ]
  },
  {
   "cell_type": "markdown",
   "id": "ac3b3ae4",
   "metadata": {},
   "source": [
    "<h3> Making prediction and exporting for Kaggle submition </h3>"
   ]
  },
  {
   "cell_type": "code",
   "execution_count": null,
   "id": "3a66e926",
   "metadata": {},
   "outputs": [],
   "source": [
    "predictions=model.predict(test_data)"
   ]
  },
  {
   "cell_type": "code",
   "execution_count": null,
   "id": "8e0dd222",
   "metadata": {},
   "outputs": [],
   "source": [
    "submission=predictions.argmax(axis=1)"
   ]
  },
  {
   "cell_type": "code",
   "execution_count": null,
   "id": "5dd3a20f",
   "metadata": {},
   "outputs": [],
   "source": [
    "submission =pd.Series(submission)"
   ]
  },
  {
   "cell_type": "code",
   "execution_count": null,
   "id": "7fa1e8ca",
   "metadata": {},
   "outputs": [],
   "source": [
    "\"\"\"Creating DataFrame\"\"\"\n",
    "submission_data =submission.to_frame(name='submission_data')"
   ]
  },
  {
   "cell_type": "code",
   "execution_count": null,
   "id": "acbecfe5",
   "metadata": {},
   "outputs": [],
   "source": [
    "submission_data"
   ]
  },
  {
   "cell_type": "code",
   "execution_count": null,
   "id": "94ae4037",
   "metadata": {},
   "outputs": [],
   "source": [
    "submission_data=submission_data.rename(columns={ submission_data.columns[0]: \"Label\" })"
   ]
  },
  {
   "cell_type": "code",
   "execution_count": null,
   "id": "2c80d6b4",
   "metadata": {},
   "outputs": [],
   "source": [
    "submission_data['ImageId'] = range(1, len(submission_data)+1)"
   ]
  },
  {
   "cell_type": "code",
   "execution_count": null,
   "id": "fa75b2ef",
   "metadata": {},
   "outputs": [],
   "source": [
    "submission_data"
   ]
  },
  {
   "cell_type": "code",
   "execution_count": null,
   "id": "82173741",
   "metadata": {},
   "outputs": [],
   "source": []
  },
  {
   "cell_type": "code",
   "execution_count": null,
   "id": "2c9d4ee4",
   "metadata": {},
   "outputs": [],
   "source": [
    "submission_data= submission_data[['ImageId', 'Label']]"
   ]
  },
  {
   "cell_type": "code",
   "execution_count": null,
   "id": "b459ea85",
   "metadata": {},
   "outputs": [],
   "source": [
    "submission_data"
   ]
  },
  {
   "cell_type": "code",
   "execution_count": null,
   "id": "8265db41",
   "metadata": {},
   "outputs": [],
   "source": [
    "\"\"\"Export csv\"\"\"\n",
    "sub = submission_data.to_csv('sub.csv', index=False)"
   ]
  },
  {
   "cell_type": "code",
   "execution_count": null,
   "id": "c8311899",
   "metadata": {},
   "outputs": [],
   "source": []
  },
  {
   "cell_type": "code",
   "execution_count": null,
   "id": "e0b828df",
   "metadata": {},
   "outputs": [],
   "source": []
  }
 ],
 "metadata": {
  "kernelspec": {
   "display_name": "Python 3",
   "language": "python",
   "name": "python3"
  },
  "language_info": {
   "codemirror_mode": {
    "name": "ipython",
    "version": 3
   },
   "file_extension": ".py",
   "mimetype": "text/x-python",
   "name": "python",
   "nbconvert_exporter": "python",
   "pygments_lexer": "ipython3",
   "version": "3.8.8"
  }
 },
 "nbformat": 4,
 "nbformat_minor": 5
}
